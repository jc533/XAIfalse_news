{
  "nbformat": 4,
  "nbformat_minor": 0,
  "metadata": {
    "colab": {
      "provenance": [],
      "authorship_tag": "ABX9TyPfIIgWUcMKujH/mwBHQslL"
    },
    "kernelspec": {
      "name": "python3",
      "display_name": "Python 3"
    },
    "language_info": {
      "name": "python"
    }
  },
  "cells": [
    {
      "cell_type": "markdown",
      "source": [
        "# structure\n",
        "- get all page\n",
        "    - get article\n",
        "        - get content\n",
        "        - get image\n",
        "        - OCR\n",
        "\n",
        "## data format\n",
        "- type wrong | partial wrong | correct\n",
        "- title\n",
        "- content\n",
        "- category\n",
        "- time\n",
        "- report"
      ],
      "metadata": {
        "id": "SfFMYrp3NYfA"
      }
    },
    {
      "cell_type": "markdown",
      "source": [
        "### update teseract v5 ppa"
      ],
      "metadata": {
        "id": "eMk1JbArnCwP"
      }
    },
    {
      "cell_type": "code",
      "source": [
        "# !rm /opt/conda/lib/libcurl.so.4\n",
        "# !ln -s /usr/lib/x86_64-linux-gnu/libcurl.so.4.8.0 /opt/conda/lib/libcurl.so.4\n",
        "!add-apt-repository ppa:alex-p/tesseract-ocr5 -y\n",
        "!apt update\n",
        "!apt install -y tesseract-ocr\n",
        "!apt install tesseract-ocr-eng\n",
        "# If you want all languages -- please note this will take time to download. You could also point to the already install tessdata in 4.00 as well.\n",
        "# !apt install tesseract-ocr-all -y\n",
        "!tesseract --version"
      ],
      "metadata": {
        "colab": {
          "base_uri": "https://localhost:8080/"
        },
        "id": "Gi_EPadIidyS",
        "outputId": "63e6bfa1-38bf-48a8-bf75-f818c5ace9a6"
      },
      "execution_count": 9,
      "outputs": [
        {
          "output_type": "stream",
          "name": "stdout",
          "text": [
            "ln: failed to create symbolic link '/opt/conda/lib/libcurl.so.4': No such file or directory\n",
            "Repository: 'deb https://ppa.launchpadcontent.net/alex-p/tesseract-ocr5/ubuntu/ jammy main'\n",
            "Description:\n",
            " The Tesseract OCR engine was one of the top 3 engines in the 1995\n",
            " UNLV Accuracy test. Between 1995 and 2006 it had little work done on\n",
            " it, but since then it has been improved extensively by Google and is\n",
            " probably one of the most accurate open source OCR engines\n",
            " available. It can read a wide variety of image formats and convert\n",
            " them to text in over 40 languages. This package includes the command\n",
            " line tool.\n",
            "More info: https://launchpad.net/~alex-p/+archive/ubuntu/tesseract-ocr5\n",
            "Adding repository.\n",
            "Adding deb entry to /etc/apt/sources.list.d/alex-p-ubuntu-tesseract-ocr5-jammy.list\n",
            "Adding disabled deb-src entry to /etc/apt/sources.list.d/alex-p-ubuntu-tesseract-ocr5-jammy.list\n",
            "Adding key to /etc/apt/trusted.gpg.d/alex-p-ubuntu-tesseract-ocr5.gpg with fingerprint 8529B1E0F8BF7F65C12FABB0A4BCBD87CEF9E52D\n",
            "Get:1 https://cloud.r-project.org/bin/linux/ubuntu jammy-cran40/ InRelease [3,626 B]\n",
            "Get:2 https://developer.download.nvidia.com/compute/cuda/repos/ubuntu2204/x86_64  InRelease [1,581 B]\n",
            "Get:3 http://security.ubuntu.com/ubuntu jammy-security InRelease [110 kB]\n",
            "Hit:4 http://archive.ubuntu.com/ubuntu jammy InRelease\n",
            "Get:5 http://archive.ubuntu.com/ubuntu jammy-updates InRelease [119 kB]\n",
            "Get:6 https://developer.download.nvidia.com/compute/cuda/repos/ubuntu2204/x86_64  Packages [808 kB]\n",
            "Hit:7 http://archive.ubuntu.com/ubuntu jammy-backports InRelease\n",
            "Get:8 http://security.ubuntu.com/ubuntu jammy-security/main amd64 Packages [1,691 kB]\n",
            "Get:9 https://ppa.launchpadcontent.net/alex-p/tesseract-ocr5/ubuntu jammy InRelease [17.6 kB]\n",
            "Get:10 http://archive.ubuntu.com/ubuntu jammy-updates/universe amd64 Packages [1,375 kB]\n",
            "Hit:11 https://ppa.launchpadcontent.net/c2d4u.team/c2d4u4.0+/ubuntu jammy InRelease\n",
            "Hit:12 https://ppa.launchpadcontent.net/deadsnakes/ppa/ubuntu jammy InRelease\n",
            "Get:13 http://security.ubuntu.com/ubuntu jammy-security/multiverse amd64 Packages [44.7 kB]\n",
            "Get:14 http://security.ubuntu.com/ubuntu jammy-security/universe amd64 Packages [1,082 kB]\n",
            "Get:15 http://security.ubuntu.com/ubuntu jammy-security/restricted amd64 Packages [2,135 kB]\n",
            "Hit:16 https://ppa.launchpadcontent.net/graphics-drivers/ppa/ubuntu jammy InRelease\n",
            "Get:17 http://archive.ubuntu.com/ubuntu jammy-updates/main amd64 Packages [1,974 kB]\n",
            "Get:18 http://archive.ubuntu.com/ubuntu jammy-updates/multiverse amd64 Packages [61.3 kB]\n",
            "Get:19 http://archive.ubuntu.com/ubuntu jammy-updates/restricted amd64 Packages [2,176 kB]\n",
            "Hit:20 https://ppa.launchpadcontent.net/ubuntugis/ppa/ubuntu jammy InRelease\n",
            "Get:21 https://ppa.launchpadcontent.net/alex-p/tesseract-ocr5/ubuntu jammy/main amd64 Packages [25.2 kB]\n",
            "Fetched 11.6 MB in 3s (4,480 kB/s)\n",
            "Reading package lists... Done\n",
            "Hit:1 https://cloud.r-project.org/bin/linux/ubuntu jammy-cran40/ InRelease\n",
            "Hit:2 http://security.ubuntu.com/ubuntu jammy-security InRelease\n",
            "Hit:3 https://developer.download.nvidia.com/compute/cuda/repos/ubuntu2204/x86_64  InRelease\n",
            "Hit:4 http://archive.ubuntu.com/ubuntu jammy InRelease\n",
            "Hit:5 http://archive.ubuntu.com/ubuntu jammy-updates InRelease\n",
            "Hit:6 http://archive.ubuntu.com/ubuntu jammy-backports InRelease\n",
            "Hit:7 https://ppa.launchpadcontent.net/alex-p/tesseract-ocr5/ubuntu jammy InRelease\n",
            "Hit:8 https://ppa.launchpadcontent.net/c2d4u.team/c2d4u4.0+/ubuntu jammy InRelease\n",
            "Hit:9 https://ppa.launchpadcontent.net/deadsnakes/ppa/ubuntu jammy InRelease\n",
            "Hit:10 https://ppa.launchpadcontent.net/graphics-drivers/ppa/ubuntu jammy InRelease\n",
            "Hit:11 https://ppa.launchpadcontent.net/ubuntugis/ppa/ubuntu jammy InRelease\n",
            "Reading package lists... Done\n",
            "Building dependency tree... Done\n",
            "Reading state information... Done\n",
            "50 packages can be upgraded. Run 'apt list --upgradable' to see them.\n",
            "Reading package lists... Done\n",
            "Building dependency tree... Done\n",
            "Reading state information... Done\n",
            "The following additional packages will be installed:\n",
            "  libtesseract5\n",
            "The following NEW packages will be installed:\n",
            "  libtesseract5\n",
            "The following packages will be upgraded:\n",
            "  tesseract-ocr\n",
            "1 upgraded, 1 newly installed, 0 to remove and 49 not upgraded.\n",
            "Need to get 1,662 kB of archives.\n",
            "After this operation, 3,417 kB of additional disk space will be used.\n",
            "Get:1 https://ppa.launchpadcontent.net/alex-p/tesseract-ocr5/ubuntu jammy/main amd64 libtesseract5 amd64 5.3.4-1ppa1~jammy1 [1,296 kB]\n",
            "Get:2 https://ppa.launchpadcontent.net/alex-p/tesseract-ocr5/ubuntu jammy/main amd64 tesseract-ocr amd64 5.3.4-1ppa1~jammy1 [366 kB]\n",
            "Fetched 1,662 kB in 1s (1,157 kB/s)\n",
            "Selecting previously unselected package libtesseract5:amd64.\n",
            "(Reading database ... 121803 files and directories currently installed.)\n",
            "Preparing to unpack .../libtesseract5_5.3.4-1ppa1~jammy1_amd64.deb ...\n",
            "Unpacking libtesseract5:amd64 (5.3.4-1ppa1~jammy1) ...\n",
            "Preparing to unpack .../tesseract-ocr_5.3.4-1ppa1~jammy1_amd64.deb ...\n",
            "Unpacking tesseract-ocr (5.3.4-1ppa1~jammy1) over (4.1.1-2.1build1) ...\n",
            "Setting up libtesseract5:amd64 (5.3.4-1ppa1~jammy1) ...\n",
            "Setting up tesseract-ocr (5.3.4-1ppa1~jammy1) ...\n",
            "Processing triggers for man-db (2.10.2-1) ...\n",
            "Processing triggers for libc-bin (2.35-0ubuntu3.4) ...\n",
            "/sbin/ldconfig.real: /usr/local/lib/libtbb.so.12 is not a symbolic link\n",
            "\n",
            "/sbin/ldconfig.real: /usr/local/lib/libtbbbind_2_5.so.3 is not a symbolic link\n",
            "\n",
            "/sbin/ldconfig.real: /usr/local/lib/libtbbbind.so.3 is not a symbolic link\n",
            "\n",
            "/sbin/ldconfig.real: /usr/local/lib/libtbbmalloc_proxy.so.2 is not a symbolic link\n",
            "\n",
            "/sbin/ldconfig.real: /usr/local/lib/libtbbmalloc.so.2 is not a symbolic link\n",
            "\n",
            "/sbin/ldconfig.real: /usr/local/lib/libtbbbind_2_0.so.3 is not a symbolic link\n",
            "\n",
            "Reading package lists... Done\n",
            "Building dependency tree... Done\n",
            "Reading state information... Done\n",
            "The following packages will be upgraded:\n",
            "  tesseract-ocr-eng\n",
            "1 upgraded, 0 newly installed, 0 to remove and 48 not upgraded.\n",
            "Need to get 1,821 kB of archives.\n",
            "After this operation, 0 B of additional disk space will be used.\n",
            "Get:1 https://ppa.launchpadcontent.net/alex-p/tesseract-ocr5/ubuntu jammy/main amd64 tesseract-ocr-eng all 1:5.0.0~git39-6572757-2ppa1~jammy1 [1,821 kB]\n",
            "Fetched 1,821 kB in 1s (1,275 kB/s)\n",
            "(Reading database ... 121844 files and directories currently installed.)\n",
            "Preparing to unpack .../tesseract-ocr-eng_1%3a5.0.0~git39-6572757-2ppa1~jammy1_all.deb ...\n",
            "Unpacking tesseract-ocr-eng (1:5.0.0~git39-6572757-2ppa1~jammy1) over (1:4.00~git30-7274cfa-1.1) ...\n",
            "Setting up tesseract-ocr-eng (1:5.0.0~git39-6572757-2ppa1~jammy1) ...\n",
            "tesseract 5.3.4\n",
            " leptonica-1.82.0\n",
            "  libgif 5.1.9 : libjpeg 8d (libjpeg-turbo 2.1.1) : libpng 1.6.37 : libtiff 4.3.0 : zlib 1.2.11 : libwebp 1.2.2 : libopenjp2 2.4.0\n",
            " Found AVX2\n",
            " Found AVX\n",
            " Found FMA\n",
            " Found SSE4.1\n",
            " Found OpenMP 201511\n",
            " Found libarchive 3.6.0 zlib/1.2.11 liblzma/5.2.5 bz2lib/1.0.8 liblz4/1.9.3 libzstd/1.4.8\n",
            " Found libcurl/7.81.0 OpenSSL/3.0.2 zlib/1.2.11 brotli/1.0.9 zstd/1.4.8 libidn2/2.3.2 libpsl/0.21.0 (+libidn2/2.3.2) libssh/0.9.6/openssl/zlib nghttp2/1.43.0 librtmp/2.3 OpenLDAP/2.5.16\n"
          ]
        }
      ]
    },
    {
      "cell_type": "markdown",
      "source": [
        "### install teseract-ocr v5"
      ],
      "metadata": {
        "id": "JAR0E3EynTo_"
      }
    },
    {
      "cell_type": "code",
      "source": [
        "!sudo apt install tesseract-ocr-chi-tra\n",
        "!pip install pytesseract"
      ],
      "metadata": {
        "colab": {
          "base_uri": "https://localhost:8080/"
        },
        "id": "FDLD2Ml_jtcN",
        "outputId": "0f8a23fd-aacf-46f9-db14-74b63fe5cd57"
      },
      "execution_count": 10,
      "outputs": [
        {
          "output_type": "stream",
          "name": "stdout",
          "text": [
            "Reading package lists... Done\n",
            "Building dependency tree... Done\n",
            "Reading state information... Done\n",
            "The following packages will be upgraded:\n",
            "  tesseract-ocr-chi-tra\n",
            "1 upgraded, 0 newly installed, 0 to remove and 47 not upgraded.\n",
            "Need to get 1,646 kB of archives.\n",
            "After this operation, 0 B of additional disk space will be used.\n",
            "Get:1 https://ppa.launchpadcontent.net/alex-p/tesseract-ocr5/ubuntu jammy/main amd64 tesseract-ocr-chi-tra all 1:5.0.0~git39-6572757-2ppa1~jammy1 [1,646 kB]\n",
            "Fetched 1,646 kB in 1s (1,140 kB/s)\n",
            "debconf: unable to initialize frontend: Dialog\n",
            "debconf: (No usable dialog-like program is installed, so the dialog based frontend cannot be used. at /usr/share/perl5/Debconf/FrontEnd/Dialog.pm line 78, <> line 1.)\n",
            "debconf: falling back to frontend: Readline\n",
            "debconf: unable to initialize frontend: Readline\n",
            "debconf: (This frontend requires a controlling tty.)\n",
            "debconf: falling back to frontend: Teletype\n",
            "dpkg-preconfigure: unable to re-open stdin: \n",
            "(Reading database ... 121844 files and directories currently installed.)\n",
            "Preparing to unpack .../tesseract-ocr-chi-tra_1%3a5.0.0~git39-6572757-2ppa1~jammy1_all.deb ...\n",
            "Unpacking tesseract-ocr-chi-tra (1:5.0.0~git39-6572757-2ppa1~jammy1) over (1:4.00~git30-7274cfa-1.1) ...\n",
            "Setting up tesseract-ocr-chi-tra (1:5.0.0~git39-6572757-2ppa1~jammy1) ...\n",
            "Requirement already satisfied: pytesseract in /usr/local/lib/python3.10/dist-packages (0.3.10)\n",
            "Requirement already satisfied: packaging>=21.3 in /usr/local/lib/python3.10/dist-packages (from pytesseract) (24.0)\n",
            "Requirement already satisfied: Pillow>=8.0.0 in /usr/local/lib/python3.10/dist-packages (from pytesseract) (9.4.0)\n"
          ]
        }
      ]
    },
    {
      "cell_type": "code",
      "source": [
        "!tesseract --version | cat\n",
        "!tesseract --list-langs | cat"
      ],
      "metadata": {
        "colab": {
          "base_uri": "https://localhost:8080/"
        },
        "id": "MlMYrl4ijoUH",
        "outputId": "8c54cffb-8aad-4156-9d33-b76e55a3e1c4"
      },
      "execution_count": 69,
      "outputs": [
        {
          "output_type": "stream",
          "name": "stdout",
          "text": [
            "tesseract 5.3.4\n",
            " leptonica-1.82.0\n",
            "  libgif 5.1.9 : libjpeg 8d (libjpeg-turbo 2.1.1) : libpng 1.6.37 : libtiff 4.3.0 : zlib 1.2.11 : libwebp 1.2.2 : libopenjp2 2.4.0\n",
            " Found AVX2\n",
            " Found AVX\n",
            " Found FMA\n",
            " Found SSE4.1\n",
            " Found OpenMP 201511\n",
            " Found libarchive 3.6.0 zlib/1.2.11 liblzma/5.2.5 bz2lib/1.0.8 liblz4/1.9.3 libzstd/1.4.8\n",
            " Found libcurl/7.81.0 OpenSSL/3.0.2 zlib/1.2.11 brotli/1.0.9 zstd/1.4.8 libidn2/2.3.2 libpsl/0.21.0 (+libidn2/2.3.2) libssh/0.9.6/openssl/zlib nghttp2/1.43.0 librtmp/2.3 OpenLDAP/2.5.16\n",
            "List of available languages in \"/usr/share/tesseract-ocr/5/tessdata/\" (2):\n",
            "chi_tra\n",
            "eng\n"
          ]
        }
      ]
    },
    {
      "cell_type": "markdown",
      "source": [
        "### import"
      ],
      "metadata": {
        "id": "zH05SjTQn60b"
      }
    },
    {
      "cell_type": "code",
      "execution_count": 93,
      "metadata": {
        "id": "YqA9VW7szDsj"
      },
      "outputs": [],
      "source": [
        "import pytesseract\n",
        "import os,re\n",
        "try:\n",
        "    from PIL import Image\n",
        "except ImportError:\n",
        "    import Image\n",
        "from bs4 import BeautifulSoup\n",
        "import requests"
      ]
    },
    {
      "cell_type": "markdown",
      "source": [
        "### get all linlks"
      ],
      "metadata": {
        "id": "vyAR2A-wBNWq"
      }
    },
    {
      "cell_type": "code",
      "source": [
        "# url = 'https://tfc-taiwan.org.tw/articles/report'\n",
        "site_url = 'https://tfc-taiwan.org.tw'\n",
        "# url = f'{site_url}/articles/9897'\n",
        "url = f'{site_url}/articles/10481'\n",
        "res = requests.get(url)\n",
        "res.encoding = 'utf-8'\n",
        "html_doc = res.text\n",
        "soup = BeautifulSoup(html_doc, 'html.parser')"
      ],
      "metadata": {
        "id": "PxwGFl1Nz0AN"
      },
      "execution_count": 94,
      "outputs": []
    },
    {
      "cell_type": "code",
      "source": [
        "def get_pages():\n",
        "    url = \"https://tfc-taiwan.org.tw/articles/report?page=\"\n",
        "    done = False\n",
        "    i = 0\n",
        "    links = []\n",
        "    while not done:\n",
        "        res = requests.get(f\"{url}{i}\")\n",
        "        res.encoding = 'utf-8'\n",
        "        if res.status_code != 200:\n",
        "            done = True\n",
        "        else:\n",
        "            print(i,len(links))\n",
        "            tmp,done =  get_links(res.text)\n",
        "            links.extend(tmp)\n",
        "        i += 1\n",
        "\n",
        "def get_links(html_doc):\n",
        "    soup = BeautifulSoup(html_doc, 'html.parser')\n",
        "    pattern = re.compile(r'^/articles/\\d+')\n",
        "    page = soup.select(\".moscone-flipped-content\")#[0].select(\".view-content\")\n",
        "    # page = soup.select(\".moscone-flipped-column-content-region\")\n",
        "    print(len(page))\n",
        "    links = page[0].find_all(\"a\",href=pattern)\n",
        "    print(len(links))\n",
        "    links = [i.get('href') for i in links]\n",
        "    links = list(set(links))\n",
        "    print(links)\n",
        "    if len(links) == 0:\n",
        "        return [],True\n",
        "    else:\n",
        "        return links,False\n",
        "\n",
        "# url = \"https://tfc-taiwan.org.tw/articles/report?page=295\"\n",
        "# res = requests.get(url)\n",
        "# res.encoding = 'utf-8'\n",
        "# get_links(res.text)\n",
        "get_pages()\n"
      ],
      "metadata": {
        "colab": {
          "base_uri": "https://localhost:8080/"
        },
        "id": "HvHZ8XizBQw9",
        "outputId": "26aba08f-6f5b-4f14-c39e-213962e1b3ef"
      },
      "execution_count": 172,
      "outputs": [
        {
          "output_type": "stream",
          "name": "stdout",
          "text": [
            "290 0\n",
            "1\n",
            "30\n",
            "['/articles/335', '/articles/350', '/articles/356', '/articles/315', '/articles/349', '/articles/336', '/articles/343', '/articles/326', '/articles/307', '/articles/355']\n",
            "291 10\n",
            "1\n",
            "30\n",
            "['/articles/296', '/articles/275', '/articles/305', '/articles/288', '/articles/276', '/articles/292', '/articles/280', '/articles/267', '/articles/289', '/articles/304']\n",
            "292 20\n",
            "1\n",
            "30\n",
            "['/articles/237', '/articles/217', '/articles/206', '/articles/261', '/articles/238', '/articles/250', '/articles/203', '/articles/260', '/articles/249', '/articles/223']\n",
            "293 30\n",
            "1\n",
            "30\n",
            "['/articles/150', '/articles/149', '/articles/199', '/articles/164', '/articles/189', '/articles/183', '/articles/188', '/articles/173', '/articles/148', '/articles/171']\n",
            "294 40\n",
            "1\n",
            "30\n",
            "['/articles/105', '/articles/106', '/articles/128', '/articles/104', '/articles/142', '/articles/136', '/articles/112', '/articles/111', '/articles/123', '/articles/131']\n",
            "295 50\n",
            "1\n",
            "14\n",
            "['/articles/100', '/articles/83', '/articles/98', '/articles/84', '/articles/79']\n",
            "296 55\n",
            "1\n",
            "0\n",
            "[]\n"
          ]
        }
      ]
    },
    {
      "cell_type": "code",
      "source": [
        "title = soup.select(\".entity-list-title\")[0].text\n",
        "title"
      ],
      "metadata": {
        "colab": {
          "base_uri": "https://localhost:8080/",
          "height": 37
        },
        "id": "T1BtgzLvwXQz",
        "outputId": "4370b364-e93c-49db-c1fe-9c1141c1a722"
      },
      "execution_count": 131,
      "outputs": [
        {
          "output_type": "execute_result",
          "data": {
            "text/plain": [
              "'網傳「接到陌生電話不要先講話，不出聲要直接掛掉，AI會蒐集民眾聲音」?'"
            ],
            "application/vnd.google.colaboratory.intrinsic+json": {
              "type": "string"
            }
          },
          "metadata": {},
          "execution_count": 131
        }
      ]
    },
    {
      "cell_type": "code",
      "source": [
        "reply =  soup.select(\".node-preface\")[0].text\n",
        "reply"
      ],
      "metadata": {
        "colab": {
          "base_uri": "https://localhost:8080/",
          "height": 126
        },
        "id": "0GT2a4z5B7_Y",
        "outputId": "7b8c7f6a-1085-41c2-de10-55b4ef965cef"
      },
      "execution_count": 82,
      "outputs": [
        {
          "output_type": "execute_result",
          "data": {
            "text/plain": [
              "'經查：【報告將隨時更新 2024/4/12版】\\nAI技術日新月異，近期通訊軟體流傳一段文字訊息，提醒民眾接到陌生電話不要先講話，因為AI會蒐集民眾聲音。專家看法為何：\\n一、AI專家指出，目前AI技術發展快，大約5-10秒間的連續說話，能模擬出真實人聲。但實際電話通話情境，聲音品質可能不佳、容易失真；且若只是幾句「喂、你好」回應，難以製作出聲音品質佳的AI音檔。\\n專家建議，民眾不需要過度防備，也不需要接起電話先不出聲。\\n二、資安、AI專家說，對於陌生電話本來就應該小心謹慎，若擔心可能是詐騙電話，應直接掛掉，謹慎求證。民眾也可以跟家人朋友間設立「通話密語」，在接電話時，若不確定是否為親友本人時就能進行多重確認。\\n'"
            ],
            "application/vnd.google.colaboratory.intrinsic+json": {
              "type": "string"
            }
          },
          "metadata": {},
          "execution_count": 82
        }
      ]
    },
    {
      "cell_type": "code",
      "source": [
        "\n",
        "page = soup.select(\".content-inner\")[0]\n",
        "imgs = page.find_all('img')\n",
        "src = [i['src'] for i in imgs]\n",
        "# for i in imgs:\n",
        "#     print(i['src'])\n",
        "#     src = i['src']\n"
      ],
      "metadata": {
        "id": "1dqTxoRAtZi7"
      },
      "execution_count": 83,
      "outputs": []
    },
    {
      "cell_type": "code",
      "source": [
        "src"
      ],
      "metadata": {
        "colab": {
          "base_uri": "https://localhost:8080/"
        },
        "id": "MzHD6uGIGWzJ",
        "outputId": "a087deaa-c1a9-4883-ac20-0548a040d6c8"
      },
      "execution_count": 84,
      "outputs": [
        {
          "output_type": "execute_result",
          "data": {
            "text/plain": [
              "['/sites/default/files/drive_api/20240412_175505_a0340fb8ad24b72b1aa8ae58d23514c3_______ 2024-04-11 112937.png',\n",
              " '/sites/default/files/drive_api/20240412_175506_5f26f3cb499347e989b64cba2d30ce49_S__37576756.jpg']"
            ]
          },
          "metadata": {},
          "execution_count": 84
        }
      ]
    },
    {
      "cell_type": "code",
      "source": [
        "def ocr(image_path):\n",
        "    image = Image.open(image_path)\n",
        "    text = pytesseract.image_to_string(image, lang='chi_tra')\n",
        "    print(text)\n",
        "    return text"
      ],
      "metadata": {
        "id": "A71LSEjyPiE4"
      },
      "execution_count": 73,
      "outputs": []
    },
    {
      "cell_type": "code",
      "source": [
        "for i in src:\n",
        "    res = requests.get(f\"{site_url}{i}\")\n",
        "    if res.status_code == 200:\n",
        "        with open('test.png', 'wb') as f:\n",
        "            f.write(res.content)\n",
        "    ocr(\"test.png\")\n",
        "    print(\"============================================\")"
      ],
      "metadata": {
        "colab": {
          "base_uri": "https://localhost:8080/"
        },
        "id": "a3xDe5vKEL85",
        "outputId": "d96eedc2-e50f-4dcd-84be-68e504fae01c"
      },
      "execution_count": 123,
      "outputs": [
        {
          "output_type": "stream",
          "name": "stdout",
          "text": [
            "無聲來電\"喂一聲\"聲音被\n",
            "偷?! Al\"5秒複製人聲'驚\n",
            "\n",
            "p ooz/i53 一一一                人間 呈\n",
            "\n",
            "============================================\n",
            "這是一\n",
            "\n",
            "上\n",
            "\n",
            "很重要的訊息,當你\n",
            "\n",
            "接到電話記住不要先出聲\n",
            "\n",
            "如果對方還是不出聲,就要掛\n",
            "斷\n",
            "\n",
            "切記!切記!因為Al正在收集\n",
            "你的聲音\n",
            "\n",
            "14:16\n",
            "\n",
            "============================================\n"
          ]
        }
      ]
    },
    {
      "cell_type": "code",
      "source": [
        "text"
      ],
      "metadata": {
        "id": "TjM7BMHcNXIb",
        "colab": {
          "base_uri": "https://localhost:8080/",
          "height": 144
        },
        "outputId": "a8c72c20-4d16-4f0d-8d3d-4d62958d1e57"
      },
      "execution_count": 8,
      "outputs": [
        {
          "output_type": "execute_result",
          "data": {
            "text/plain": [
              "\" 人訪詩還計時廬生主和3和1生主:本六証廬還號1t計計二還還品全共生生 全還點=中記歡人邊中:人員\\n停電,近2999多戶受到影響,對此,台電正派員搶修當中。另北市貓空纜車也受到影響暫停營運。\\n\\n \\n\\n共和EE和還汪e廬近還2自廬lt刻本主引必2二信二中加放生中全和中1本莒1汪由5廬1\\n| 息,而瞬間大雷雨也讓台北市士林區、淡水區發生停電,致福國路、福華路忠誠路一段受到影\\n\\n \\n\\n' 對此,台電表示,事發後台電隨即派員至現場查修,於下午已復電約7成(1282戶)正常供電,台電現仍持續搶修中,目前仍尋找故\\n| 障點中。另北市貓空纜車也受到影響暫停營運,提醒旅客勿前往搭乘。\\n原文網址: 雙北降豪兩 !士林、淡水大規模停電 貓纜暫停搭乘 | 生活 | Nawtalk新聞 https://newtalk.tw/news/view/\\n避全EE Ki\\nFollow us:; @Newtalk新聞 on FB | Qnewtalk_news on IG | “@NewtaukNews on YT\\n\\n \\n\\n \\n\\n \\n\\n \\n\\x0c\""
            ],
            "application/vnd.google.colaboratory.intrinsic+json": {
              "type": "string"
            }
          },
          "metadata": {},
          "execution_count": 8
        }
      ]
    },
    {
      "cell_type": "code",
      "source": [
        "os.environ['TESSDATA_PREFIX']"
      ],
      "metadata": {
        "colab": {
          "base_uri": "https://localhost:8080/",
          "height": 269
        },
        "id": "4H6Y2XhpTdTQ",
        "outputId": "3347254c-0407-4f56-8d61-2f5bad638a98"
      },
      "execution_count": 3,
      "outputs": [
        {
          "output_type": "error",
          "ename": "KeyError",
          "evalue": "'TESSDATA_PREFIX'",
          "traceback": [
            "\u001b[0;31m---------------------------------------------------------------------------\u001b[0m",
            "\u001b[0;31mKeyError\u001b[0m                                  Traceback (most recent call last)",
            "\u001b[0;32m<ipython-input-3-b122ea46b36c>\u001b[0m in \u001b[0;36m<cell line: 1>\u001b[0;34m()\u001b[0m\n\u001b[0;32m----> 1\u001b[0;31m \u001b[0mos\u001b[0m\u001b[0;34m.\u001b[0m\u001b[0menviron\u001b[0m\u001b[0;34m[\u001b[0m\u001b[0;34m'TESSDATA_PREFIX'\u001b[0m\u001b[0;34m]\u001b[0m\u001b[0;34m\u001b[0m\u001b[0;34m\u001b[0m\u001b[0m\n\u001b[0m",
            "\u001b[0;32m/usr/lib/python3.10/os.py\u001b[0m in \u001b[0;36m__getitem__\u001b[0;34m(self, key)\u001b[0m\n\u001b[1;32m    678\u001b[0m         \u001b[0;32mexcept\u001b[0m \u001b[0mKeyError\u001b[0m\u001b[0;34m:\u001b[0m\u001b[0;34m\u001b[0m\u001b[0;34m\u001b[0m\u001b[0m\n\u001b[1;32m    679\u001b[0m             \u001b[0;31m# raise KeyError with the original key value\u001b[0m\u001b[0;34m\u001b[0m\u001b[0;34m\u001b[0m\u001b[0m\n\u001b[0;32m--> 680\u001b[0;31m             \u001b[0;32mraise\u001b[0m \u001b[0mKeyError\u001b[0m\u001b[0;34m(\u001b[0m\u001b[0mkey\u001b[0m\u001b[0;34m)\u001b[0m \u001b[0;32mfrom\u001b[0m \u001b[0;32mNone\u001b[0m\u001b[0;34m\u001b[0m\u001b[0;34m\u001b[0m\u001b[0m\n\u001b[0m\u001b[1;32m    681\u001b[0m         \u001b[0;32mreturn\u001b[0m \u001b[0mself\u001b[0m\u001b[0;34m.\u001b[0m\u001b[0mdecodevalue\u001b[0m\u001b[0;34m(\u001b[0m\u001b[0mvalue\u001b[0m\u001b[0;34m)\u001b[0m\u001b[0;34m\u001b[0m\u001b[0;34m\u001b[0m\u001b[0m\n\u001b[1;32m    682\u001b[0m \u001b[0;34m\u001b[0m\u001b[0m\n",
            "\u001b[0;31mKeyError\u001b[0m: 'TESSDATA_PREFIX'"
          ]
        }
      ]
    }
  ]
}